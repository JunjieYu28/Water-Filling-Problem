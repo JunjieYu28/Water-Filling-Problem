{
 "cells": [
  {
   "cell_type": "markdown",
   "metadata": {},
   "source": [
    "导入相关的包"
   ]
  },
  {
   "cell_type": "code",
   "execution_count": 95,
   "metadata": {},
   "outputs": [],
   "source": [
    "import numpy as np\n",
    "from matplotlib import pyplot as plt"
   ]
  },
  {
   "cell_type": "markdown",
   "metadata": {},
   "source": [
    "定义计算optimal solution的函数:\n",
    "$$\n",
    "-\\sum_{i = 1}^{n} \\log (\\alpha_i + x_i)\n",
    "$$"
   ]
  },
  {
   "cell_type": "code",
   "execution_count": 96,
   "metadata": {},
   "outputs": [],
   "source": [
    "def calculate_target(alpha,x):\n",
    "    return -(np.log2(alpha+x).sum())"
   ]
  },
  {
   "cell_type": "markdown",
   "metadata": {},
   "source": [
    "定义fill_water函数\n",
    "\n",
    "同之前一样首先初始化 $\\nu$ 的值为 2.0 (该$\\nu$值是我们经过几次实验之后的经验值), $error$ 的值为1.0, 从0开始迭代，并开创 $targets[], errors[]$ 来记录每一次迭代之后的solution以及相应的errors的变化\n",
    "\n",
    "根据牛顿法的思路，我们选择$\\Delta x_{nt} = -\\nabla^2 f(x)^{-1} \\nabla f(x)$，因此我们先求出一阶导与二阶导，并将其作为更新指标\n",
    "\n",
    "此处出现了\n",
    "* if abs(d2F_dnu2) < epsilon:\n",
    "* d2F_dnu2 = epsilon\n",
    "\n",
    "是由于当d2F_dnu2的值非常小时，代码会出现Runtime error的warning，也即分母不能为零，因此设置了一个最小值$epsilon = 10^{-8}$\n",
    "\n",
    "但非常可惜的是，在Gradient Descent求一阶导时代码已经运行得很慢了，此处还要求二阶导，其运行时间相当的长，因此也未在该.ipynb中给出各代码块的输出\n",
    "\n",
    "为了方便不同时候的需要，我们加入一个判断语句，通过可选的bool参数track, 来决定我们最后的return:\n",
    "* 如果我们的输出不存在问题，可将track选为false, 以此来简化输出，仅仅输出我们最后的optimmal $x^*$\n",
    "* 如果我们最后的输出不知为何出了问题，或者说我们想要看到target和error在每一步iterations之后的变化，我们可将track选为true,这样就不仅仅会输出 optimal $x^*$,还会输出数组$target[] 和 error[]$\n",
    "\n"
   ]
  },
  {
   "cell_type": "code",
   "execution_count": 97,
   "metadata": {},
   "outputs": [],
   "source": [
    "def fill_water(alpha, total_water, precision, track=False):\n",
    "    nu = 2.0\n",
    "    error = 1.0\n",
    "    iteration = 0\n",
    "    targets = []\n",
    "    errors = []\n",
    "    epsilon = 1e-8\n",
    "    \n",
    "    while error > precision:\n",
    "        x = np.maximum(0, 1/nu - alpha)\n",
    "        total_power = x.sum()\n",
    "        error = np.abs(total_power - total_water)\n",
    "        \n",
    "        if track:\n",
    "            targets.append(calculate_target(alpha, x))\n",
    "            errors.append(error)\n",
    "        \n",
    "        dF_dnu = np.sum(1 / (nu**2))  # First derivative\n",
    "        d2F_dnu2 = np.sum(-2  / (nu**3))  # Second derivative\n",
    "\n",
    "        if abs(d2F_dnu2) < epsilon:\n",
    "            d2F_dnu2 = epsilon\n",
    "        \n",
    "        nu = nu - dF_dnu / d2F_dnu2\n",
    "        \n",
    "        iteration += 1\n",
    "        \n",
    "    if track:\n",
    "        return x, targets, errors\n",
    "    return x"
   ]
  },
  {
   "cell_type": "markdown",
   "metadata": {},
   "source": [
    "此处我们先规定随机生成的 $\\alpha$ 的区间，并规定 $total_water = 1.0$ 和 $dimension = 10$，换到实际问题中便可以是我们规定总水量为1吨，总共有10个channels，\n",
    "再给出我们像要达到的精确度，此处设为了$10^{-6}$\n",
    "\n",
    "然后我们再使用random函数随机生成了10个$\\alpha_i$值，并将它们打印出来"
   ]
  },
  {
   "cell_type": "code",
   "execution_count": null,
   "metadata": {},
   "outputs": [],
   "source": [
    "alpha_range = [0.0,1.0]\n",
    "total_water = 1.0\n",
    "dimension = 10\n",
    "\n",
    "precision = 1e-6\n",
    "\n",
    "alpha = np.random.uniform(low = alpha_range[0],high = alpha_range[1],size = (dimension,1))\n",
    "print(alpha)"
   ]
  },
  {
   "cell_type": "markdown",
   "metadata": {},
   "source": [
    "然后我们利用定义的$fill\\_water$函数求出 optimal $x^*$并将其打印出来，以及将 $\\sum_{i=1}^{n} x_i^*$打印出来（可以此比较其与1的差值以见是否达到要求）\n",
    "\n",
    "同时我们求出水位 $horizontal\\_ line$ 其实也即是 $1/\\nu^*$,并将其打印出来"
   ]
  },
  {
   "cell_type": "code",
   "execution_count": null,
   "metadata": {},
   "outputs": [],
   "source": [
    "x = fill_water(alpha = alpha, total_water=total_water,precision=precision)\n",
    "print(x)\n",
    "print(x.sum())\n",
    "\n",
    "horizontal_line = (alpha+x).min()\n",
    "print(horizontal_line)"
   ]
  },
  {
   "cell_type": "markdown",
   "metadata": {},
   "source": [
    "此处定义 $visualize\\_ water$函数以对该问题的最终结果进行可视化呈现:\n",
    "\n",
    "The height of each patch is given by $\\alpha_i$. The region is flooded to a level $1/\\nu^*$ which uses a total quantity of water equal to one. The height of the water (shown blue) above each patch is the optimal value of $x^*$."
   ]
  },
  {
   "cell_type": "code",
   "execution_count": 88,
   "metadata": {},
   "outputs": [],
   "source": [
    "def visualize_water(alpha,x,horizontal_line):\n",
    "    alpha = alpha.squeeze()\n",
    "    x = x.squeeze()\n",
    "\n",
    "    x_range = range(1,x.shape[0]+1)\n",
    "    plt.xticks(x_range)\n",
    "    plt.bar(x_range,alpha,color = '#ff9966',width = 1.0,edgecolor = '#ff9966')\n",
    "    plt.bar(x_range,x,bottom = alpha,color = '#4db8ff',width = 1.0)\n",
    "\n",
    "    plt.axhline(y = horizontal_line,linewidth =1,color = 'k')\n",
    "    plt.show()"
   ]
  },
  {
   "cell_type": "code",
   "execution_count": null,
   "metadata": {},
   "outputs": [],
   "source": [
    "visualize_water(alpha,x,horizontal_line)"
   ]
  },
  {
   "cell_type": "markdown",
   "metadata": {},
   "source": [
    "此处与$fill\\_water$函数中的关于 $track$ 的if 判断语句相对应，可以将最终的 $x^*$ 以及每一次iteration之后的targets和errors输出，便于在代码出现问题之后debug\n",
    "\n",
    "同时，此处可查看迭代的次数"
   ]
  },
  {
   "cell_type": "code",
   "execution_count": null,
   "metadata": {},
   "outputs": [],
   "source": [
    "x,targets,errors = fill_water(alpha = alpha,total_water=total_water,precision=precision,track = True)\n",
    "print(x)\n",
    "print(targets)\n",
    "print(errors)\n",
    "\n",
    "print('iteration:',len(errors))"
   ]
  },
  {
   "cell_type": "markdown",
   "metadata": {},
   "source": [
    "此处定义 $visualize\\_targets\\_and\\_errors$函数，对在迭代过程中的targets和errors的变化进行可视化呈现，以观察实验效果"
   ]
  },
  {
   "cell_type": "code",
   "execution_count": 91,
   "metadata": {},
   "outputs": [],
   "source": [
    "def visualize_targets_and_errors(targets,errors):\n",
    "    x = range(len(targets))\n",
    "    plt.plot(x,targets,label = 'targets')\n",
    "    plt.plot(x,errors,label = 'errors')\n",
    "\n",
    "    plt.legend(loc = 'best')\n",
    "\n",
    "    plt.show()"
   ]
  },
  {
   "cell_type": "code",
   "execution_count": null,
   "metadata": {},
   "outputs": [],
   "source": [
    "visualize_targets_and_errors(targets,errors)"
   ]
  },
  {
   "cell_type": "markdown",
   "metadata": {},
   "source": [
    "⼀顿操作之后，我们很自然地想确认自己的结果是不是正确的，但对于该问题，由于$\\alpha$生成的随机性，“标准答案”并不好寻找，我们就可以通过判断我们的实现的算法是否⽐随机⽣成的解要好，以此来判断我们的解的正确性\n",
    "\n",
    "此处我们定义了一个 $monkey_search$函数以生成随机解，并将其可视化呈现。其中橙线是我们得到的optimal solution of $-\\sum_{i = 1}^{n} \\log (\\alpha_i + x_i)$,蓝点即是每一只“猴子”确定的随机解"
   ]
  },
  {
   "cell_type": "code",
   "execution_count": 93,
   "metadata": {},
   "outputs": [],
   "source": [
    "def monkey_search(alpha):\n",
    "    while True:\n",
    "        monkey_solutions = np.random.dirichlet(np.ones(10),size = 1).reshape(-1,1)\n",
    "        if np.less(monkey_solutions,0).any():\n",
    "            continue\n",
    "        return monkey_solutions\n",
    "    \n",
    "def visualize_monkey_search(alpha,monkey_amount,optimal):\n",
    "    monkey_solutions = [calculate_target(alpha,monkey_search(alpha))\\\n",
    "                        for _ in range(monkey_amount)]\n",
    "    plt.scatter(range(monkey_amount),monkey_solutions)\n",
    "    plt.axhline(y = optimal,linewidth = 1,color = 'r')\n",
    "\n",
    "    plt.show()"
   ]
  },
  {
   "cell_type": "code",
   "execution_count": null,
   "metadata": {},
   "outputs": [],
   "source": [
    "optimal_line= targets[len(targets)-1]\n",
    "visualize_monkey_search(alpha,1000,optimal_line)"
   ]
  }
 ],
 "metadata": {
  "kernelspec": {
   "display_name": "optimization_project",
   "language": "python",
   "name": "python3"
  },
  "language_info": {
   "codemirror_mode": {
    "name": "ipython",
    "version": 3
   },
   "file_extension": ".py",
   "mimetype": "text/x-python",
   "name": "python",
   "nbconvert_exporter": "python",
   "pygments_lexer": "ipython3",
   "version": "3.13.1"
  }
 },
 "nbformat": 4,
 "nbformat_minor": 2
}
